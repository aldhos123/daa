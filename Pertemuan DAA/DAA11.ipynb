{
 "cells": [
  {
   "cell_type": "code",
   "execution_count": 27,
   "metadata": {},
   "outputs": [
    {
     "name": "stdout",
     "output_type": "stream",
     "text": [
      "{'a': ['b', 'c'], 'b': ['a', 'd'], 'c': ['a', 'd'], 'd': ['e'], 'e': ['d']}\n"
     ]
    }
   ],
   "source": [
    "#DICTIONARY ABC GRAPH\n",
    "graph1 = { \"a\" : [\"b\", \"c\"],\n",
    "          \"b\" : [\"a\", \"d\"],\n",
    "          \"c\" : [\"a\", \"d\"],\n",
    "          \"d\" : [\"e\"],\n",
    "          \"e\" : [\"d\"]\n",
    "}\n",
    "\n",
    "print(graph1)"
   ]
  },
  {
   "cell_type": "code",
   "execution_count": 28,
   "metadata": {},
   "outputs": [
    {
     "name": "stdout",
     "output_type": "stream",
     "text": [
      "{'T': ['U', 'W'], 'U': ['T', 'V'], 'V': ['U', 'X'], 'W': ['T', 'X', 'Z'], 'X': ['V', 'W', 'S'], 'Z': ['T', 'W'], 'S': ['V', 'X']}\n"
     ]
    }
   ],
   "source": [
    "#DICTIONARY TUV GRAPH LATIHAN\n",
    "#T-------U-------V\n",
    "#|               |\n",
    "#W---------------X\n",
    "#|               |\n",
    "#Z               S\n",
    "\n",
    "graph2 = { \"T\" : [\"U\", \"W\"],\n",
    "          \"U\" : [\"T\", \"V\"],\n",
    "          \"V\" : [\"U\", \"X\"],\n",
    "          \"W\" : [\"T\", \"X\", \"Z\"],\n",
    "          \"X\" : [\"V\", \"W\", \"S\"],\n",
    "          \"Z\" : [\"T\", \"W\"],\n",
    "          \"S\" : [\"V\", \"X\"]\n",
    "}\n",
    "\n",
    "print(graph2)"
   ]
  },
  {
   "cell_type": "code",
   "execution_count": 66,
   "metadata": {},
   "outputs": [
    {
     "name": "stdout",
     "output_type": "stream",
     "text": [
      "{'R': ['O', 'L'], 'O': ['R', 'P', 'M'], 'M': ['O', 'N'], 'L': ['R', 'P'], 'P': ['L', 'O', 'N'], 'N': ['M', 'P']}\n",
      "R, O, M, L, P, N\n"
     ]
    }
   ],
   "source": [
    "#DICTIONARY ROM GRAPH LATIHAN\n",
    "#R-------O-------M\n",
    "#|       |       |\n",
    "#L-------P-------N\n",
    "\n",
    "graph3 = { \"R\" : [\"O\", \"L\"],\n",
    "          \"O\" : [\"R\", \"P\", \"M\"],\n",
    "          \"M\" : [\"O\", \"N\"],\n",
    "          \"L\" : [\"R\", \"P\"],\n",
    "          \"P\" : [\"L\", \"O\", \"N\"],\n",
    "          \"N\" : [\"M\", \"P\"]\n",
    "}\n",
    "\n",
    "print(graph3)\n",
    "print (', '.join(graph3))"
   ]
  },
  {
   "cell_type": "code",
   "execution_count": 67,
   "metadata": {},
   "outputs": [
    {
     "name": "stdout",
     "output_type": "stream",
     "text": [
      "['a', 'b', 'c', 'd', 'e']\n"
     ]
    }
   ],
   "source": [
    "# SIMPUL GRAPH\n",
    "class graph_vertices:\n",
    "    def __init__(self, gdict=None):\n",
    "        if gdict is None:\n",
    "            gdict = []\n",
    "        self.gdict = gdict \n",
    "\n",
    "    def getVertices(self):\n",
    "        return list(self.gdict.keys())\n",
    "        \n",
    "# GRAPH ABC\n",
    "g1 = graph_vertices(graph1)\n",
    "# GRAPH TUV\n",
    "g2 = graph_vertices(graph2)\n",
    "# GRAPH ROM\n",
    "g3 = graph_vertices(graph3)\n",
    "\n",
    "print(g.getVertices())"
   ]
  },
  {
   "cell_type": "code",
   "execution_count": 68,
   "metadata": {},
   "outputs": [
    {
     "name": "stdout",
     "output_type": "stream",
     "text": [
      "['T', 'U', 'V', 'W', 'X', 'Z', 'S', 'Y']\n"
     ]
    }
   ],
   "source": [
    "# LATIHAN SIMPUL GRAPH TUV\n",
    "# MENGAMBIL GRAFIK TUV DIATAS\n",
    "print(g2.getVertices())"
   ]
  },
  {
   "cell_type": "code",
   "execution_count": 45,
   "metadata": {},
   "outputs": [
    {
     "name": "stdout",
     "output_type": "stream",
     "text": [
      "['R', 'O', 'M', 'L', 'P', 'N']\n"
     ]
    }
   ],
   "source": [
    "# LATIHAN SIMPUL GRAPH ROM\n",
    "# MENGAMBIL GRAFIK ROM DIATAS\n",
    "print(g3.getVertices())"
   ]
  },
  {
   "cell_type": "code",
   "execution_count": 69,
   "metadata": {},
   "outputs": [
    {
     "name": "stdout",
     "output_type": "stream",
     "text": [
      "[{'b', 'a'}, {'a', 'c'}, {'b', 'd'}, {'d', 'c'}, {'e', 'd'}]\n"
     ]
    }
   ],
   "source": [
    "# SUDUT GRAPH\n",
    "class graph_edges:\n",
    "    def __init__(self, gdict=None):\n",
    "        if gdict is None:\n",
    "            gdict = []\n",
    "        self.gdict = gdict \n",
    "\n",
    "    def edges(self):\n",
    "        return self.findedges()\n",
    "\n",
    "    def findedges(self):\n",
    "        edgename = []\n",
    "        for vrtx in self.gdict:\n",
    "            for nxtvrtx in self.gdict[vrtx]:\n",
    "                if {nxtvrtx, vrtx} not in edgename:\n",
    "                    edgename.append({vrtx, nxtvrtx})\n",
    "        return edgename\n",
    "\n",
    "# AMBIL GRAPH ELEMENT DARI ATAS\n",
    "g1 = graph_edges(graph1)\n",
    "g2 = graph_edges(graph2)\n",
    "\n",
    "print(g1.edges())"
   ]
  },
  {
   "cell_type": "code",
   "execution_count": 47,
   "metadata": {},
   "outputs": [
    {
     "name": "stdout",
     "output_type": "stream",
     "text": [
      "[{'T', 'U'}, {'T', 'W'}, {'V', 'U'}, {'V', 'X'}, {'X', 'W'}, {'Z', 'W'}, {'X', 'S'}, {'Z', 'T'}, {'V', 'S'}]\n"
     ]
    }
   ],
   "source": [
    "# LATIHAN EDGES GRAPH TUV\n",
    "# MENGAMBIL GRAFIK TUV DIATAS\n",
    "print(g2.edges())"
   ]
  },
  {
   "cell_type": "code",
   "execution_count": 73,
   "metadata": {},
   "outputs": [
    {
     "name": "stdout",
     "output_type": "stream",
     "text": [
      "['a', 'b', 'c', 'd', 'e', 'f']\n"
     ]
    }
   ],
   "source": [
    "# SIMPUL/VERTEX GRAPH\n",
    "class graph_vertex:\n",
    "    def __init__(self, gdict=None):\n",
    "        if gdict is None:\n",
    "            gdict = []\n",
    "        self.gdict = gdict \n",
    "\n",
    "    def getVertices(self):\n",
    "        return list(self.gdict.keys())\n",
    "        \n",
    "    def addVertex(self, vrtx):\n",
    "        if vrtx not in self.gdict:\n",
    "            self.gdict[vrtx] = []\n",
    "\n",
    "# GRAPH ABC\n",
    "g1 = graph_vertex(graph1)\n",
    "g1.addVertex(\"f\")\n",
    "# GRAPH TUV\n",
    "g2 = graph_vertex(graph2)\n",
    "# GRAPH ROM\n",
    "g3 = graph_vertex(graph3)\n",
    "g3.addVertex(\"Q\")\n",
    "\n",
    "print(g1.getVertices())"
   ]
  },
  {
   "cell_type": "code",
   "execution_count": 75,
   "metadata": {},
   "outputs": [
    {
     "name": "stdout",
     "output_type": "stream",
     "text": [
      "['R', 'O', 'M', 'L', 'P', 'N', 'Q']\n"
     ]
    }
   ],
   "source": [
    "# LATIHAN VERTEX GRAPH ROM\n",
    "# MENGAMBIL GRAFIK ROM DIATAS\n",
    "print(g3.getVertices())"
   ]
  },
  {
   "cell_type": "code",
   "execution_count": 81,
   "metadata": {},
   "outputs": [
    {
     "name": "stdout",
     "output_type": "stream",
     "text": [
      "[{'b', 'a'}, {'a', 'c'}, {'a', 'e'}, {'b', 'd'}, {'d', 'c'}, {'e', 'd'}]\n"
     ]
    }
   ],
   "source": [
    "# ADD SUDUT GRAPH\n",
    "class graph_add_edges:\n",
    "    def __init__(self, gdict=None):\n",
    "        if gdict is None:\n",
    "            gdict = []\n",
    "        self.gdict = gdict \n",
    "\n",
    "    def edges(self):\n",
    "        return self.findedges()\n",
    "\n",
    "    def addEdge(self, edge):\n",
    "        edge = set(edge)\n",
    "        (vrtx1, vrtx2) = tuple(edge)\n",
    "        if vrtx1 in self.gdict:\n",
    "            self.gdict[vrtx1].append(vrtx2)\n",
    "        else:\n",
    "            self.gdict[vrtx1] = [vrtx2]\n",
    "\n",
    "    def findedges(self):\n",
    "        edgename = []\n",
    "        for vrtx in self.gdict:\n",
    "            for nxtvrtx in self.gdict[vrtx]:\n",
    "                if {nxtvrtx, vrtx} not in edgename:\n",
    "                    edgename.append({vrtx, nxtvrtx})\n",
    "        return edgename\n",
    "\n",
    "# AMBIL GRAPH ELEMENT DARI ATAS\n",
    "g1 = graph_add_edges(graph1)\n",
    "g1.addEdge(['a', 'e'])\n",
    "g1.addEdge(['a', 'c'])\n",
    "\n",
    "g2 = graph_add_edges(graph2)\n",
    "\n",
    "print(g1.edges())"
   ]
  }
 ],
 "metadata": {
  "interpreter": {
   "hash": "19fc8b14b797fe6782737ec85a0c3f8c6b79798f6129668ab9de125072ad4ea8"
  },
  "kernelspec": {
   "display_name": "Python 3.7.3 64-bit",
   "name": "python3"
  },
  "language_info": {
   "codemirror_mode": {
    "name": "ipython",
    "version": 3
   },
   "file_extension": ".py",
   "mimetype": "text/x-python",
   "name": "python",
   "nbconvert_exporter": "python",
   "pygments_lexer": "ipython3",
   "version": "3.7.3"
  },
  "orig_nbformat": 4
 },
 "nbformat": 4,
 "nbformat_minor": 2
}
