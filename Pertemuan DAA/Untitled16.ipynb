{
  "nbformat": 4,
  "nbformat_minor": 0,
  "metadata": {
    "colab": {
      "name": "Untitled16.ipynb",
      "provenance": []
    },
    "kernelspec": {
      "name": "python3",
      "display_name": "Python 3"
    },
    "language_info": {
      "name": "python"
    }
  },
  "cells": [
    {
      "cell_type": "code",
      "metadata": {
        "colab": {
          "base_uri": "https://localhost:8080/"
        },
        "id": "73Sd7rXicnDw",
        "outputId": "62f678e1-f74b-4fc0-cb98-da485b662178"
      },
      "source": [
        "#swap function\n",
        "var1 = 1\n",
        "var2 = 2\n",
        "var1,var2 = var2,var1\n",
        "print(var1,var2)"
      ],
      "execution_count": 1,
      "outputs": [
        {
          "output_type": "stream",
          "name": "stdout",
          "text": [
            "2 1\n"
          ]
        }
      ]
    },
    {
      "cell_type": "code",
      "metadata": {
        "colab": {
          "base_uri": "https://localhost:8080/"
        },
        "id": "Km17wmA1hr2p",
        "outputId": "7789fe59-b954-4e77-a669-c0e083810ff0"
      },
      "source": [
        "#swap function\n",
        "var1 = 1\n",
        "var2 = 2\n",
        "var3 = 3\n",
        "var1,var2, var3 = var3,var2,var1\n",
        "print(var1,var2,var3)"
      ],
      "execution_count": 2,
      "outputs": [
        {
          "output_type": "stream",
          "name": "stdout",
          "text": [
            "3 2 1\n"
          ]
        }
      ]
    },
    {
      "cell_type": "code",
      "metadata": {
        "id": "tpQDocaXjCaa"
      },
      "source": [
        "#Bubble sort\n",
        "\n",
        "list =[25,21,22,24,23,27,26]\n",
        "\n",
        "#modifikasi sesuai angka favorit anda"
      ],
      "execution_count": 3,
      "outputs": []
    },
    {
      "cell_type": "code",
      "metadata": {
        "colab": {
          "base_uri": "https://localhost:8080/"
        },
        "id": "hbiikceTjnm2",
        "outputId": "b9452a2c-ae77-436e-a717-9cca93b0bbf8"
      },
      "source": [
        "# proses penukaran bubble sort\n",
        "\n",
        "lastElementIndex = len(list)-1\n",
        "print(0, list)\n",
        "for idx in range(lastElementIndex):\n",
        "    if list[idx]>list[idx+1]:\n",
        "        list[idx], list[idx+1]=list[idx+1], list[idx]\n",
        "    print(idx+1,list)"
      ],
      "execution_count": 4,
      "outputs": [
        {
          "output_type": "stream",
          "name": "stdout",
          "text": [
            "0 [25, 21, 22, 24, 23, 27, 26]\n",
            "1 [21, 25, 22, 24, 23, 27, 26]\n",
            "2 [21, 22, 25, 24, 23, 27, 26]\n",
            "3 [21, 22, 24, 25, 23, 27, 26]\n",
            "4 [21, 22, 24, 23, 25, 27, 26]\n",
            "5 [21, 22, 24, 23, 25, 27, 26]\n",
            "6 [21, 22, 24, 23, 25, 26, 27]\n"
          ]
        }
      ]
    },
    {
      "cell_type": "code",
      "metadata": {
        "id": "IBAuQuQiloRs"
      },
      "source": [
        "def BubbleSort(list):\n",
        "    #exchange the element to arrange in order\n",
        "    lastElementIndex = len(list)-1\n",
        "    for passNo in range(lastElementIndex,0,-1):\n",
        "        for idx in range(passNo):\n",
        "            if list[idx]>list[idx+1]:\n",
        "                list[idx],list[idx+1]=list[idx+1],list[idx]\n",
        "    return list"
      ],
      "execution_count": 5,
      "outputs": []
    },
    {
      "cell_type": "code",
      "metadata": {
        "id": "fbqMuybUmbJ4"
      },
      "source": [
        "#masukan angka dengan urutan lainnya\n",
        "\n",
        "list =[25,21,22,24,23,27,26]"
      ],
      "execution_count": 6,
      "outputs": []
    },
    {
      "cell_type": "code",
      "metadata": {
        "colab": {
          "base_uri": "https://localhost:8080/"
        },
        "id": "sOx5nj0cmfqo",
        "outputId": "b78f9de8-77c5-4e29-e2fd-e8a976dc3eb4"
      },
      "source": [
        "BubbleSort (list)"
      ],
      "execution_count": 7,
      "outputs": [
        {
          "output_type": "execute_result",
          "data": {
            "text/plain": [
              "[21, 22, 23, 24, 25, 26, 27]"
            ]
          },
          "metadata": {},
          "execution_count": 7
        }
      ]
    },
    {
      "cell_type": "code",
      "metadata": {
        "colab": {
          "base_uri": "https://localhost:8080/"
        },
        "id": "EFN8yxrcm2gg",
        "outputId": "39e4ae86-d7ff-47d3-8782-a03eb05d729a"
      },
      "source": [
        "list"
      ],
      "execution_count": 8,
      "outputs": [
        {
          "output_type": "execute_result",
          "data": {
            "text/plain": [
              "[21, 22, 23, 24, 25, 26, 27]"
            ]
          },
          "metadata": {},
          "execution_count": 8
        }
      ]
    },
    {
      "cell_type": "code",
      "metadata": {
        "id": "6_94Fe1EpvQm"
      },
      "source": [
        "#LatihanBubblesort\n",
        "\n",
        "list= [100,20,60,70,40,30,10,5]"
      ],
      "execution_count": 9,
      "outputs": []
    },
    {
      "cell_type": "code",
      "metadata": {
        "colab": {
          "base_uri": "https://localhost:8080/"
        },
        "id": "LCbkbbJMqJ5u",
        "outputId": "8e7b78b4-676a-488c-9639-408c0b24ac72"
      },
      "source": [
        "BubbleSort (list)"
      ],
      "execution_count": 10,
      "outputs": [
        {
          "output_type": "execute_result",
          "data": {
            "text/plain": [
              "[5, 10, 20, 30, 40, 60, 70, 100]"
            ]
          },
          "metadata": {},
          "execution_count": 10
        }
      ]
    },
    {
      "cell_type": "code",
      "metadata": {
        "colab": {
          "base_uri": "https://localhost:8080/"
        },
        "id": "A4DUlJAJqS6t",
        "outputId": "2e9a49f6-bcc7-47b9-d83d-82f20a523c62"
      },
      "source": [
        "list"
      ],
      "execution_count": 11,
      "outputs": [
        {
          "output_type": "execute_result",
          "data": {
            "text/plain": [
              "[5, 10, 20, 30, 40, 60, 70, 100]"
            ]
          },
          "metadata": {},
          "execution_count": 11
        }
      ]
    },
    {
      "cell_type": "code",
      "metadata": {
        "id": "GKq0gvBJrozf"
      },
      "source": [
        "#Insertion Sort\n",
        "\n",
        "def InsertionSort(list):\n",
        "    for i in range(1, len(list)):\n",
        "        j = i - 1\n",
        "        next = list[i]\n",
        "#compare the current element with next one        \n",
        "        while (list[j] > next) and (j >= 0):\n",
        "            list[j+1] = list[j]\n",
        "            j = j - 1\n",
        "        list[j+1] = next\n",
        "    return list"
      ],
      "execution_count": 12,
      "outputs": []
    },
    {
      "cell_type": "code",
      "metadata": {
        "id": "MVOu4kb5r0WG"
      },
      "source": [
        "#masukan angka dengan urutan lainnya\n",
        "list = [35,31,32,34,33,37,36]"
      ],
      "execution_count": 15,
      "outputs": []
    },
    {
      "cell_type": "code",
      "metadata": {
        "colab": {
          "base_uri": "https://localhost:8080/"
        },
        "id": "U3GAaTQpsoLv",
        "outputId": "4c54c9cd-78b8-4947-bcac-aecd306514af"
      },
      "source": [
        "list"
      ],
      "execution_count": 17,
      "outputs": [
        {
          "output_type": "execute_result",
          "data": {
            "text/plain": [
              "[31, 32, 33, 34, 35, 36, 37]"
            ]
          },
          "metadata": {},
          "execution_count": 17
        }
      ]
    },
    {
      "cell_type": "code",
      "metadata": {
        "colab": {
          "base_uri": "https://localhost:8080/"
        },
        "id": "S1GDCs0WsUT6",
        "outputId": "7384f8db-5cc1-403e-f503-f83e27bd77a7"
      },
      "source": [
        "InsertionSort (list)"
      ],
      "execution_count": 16,
      "outputs": [
        {
          "output_type": "execute_result",
          "data": {
            "text/plain": [
              "[31, 32, 33, 34, 35, 36, 37]"
            ]
          },
          "metadata": {},
          "execution_count": 16
        }
      ]
    },
    {
      "cell_type": "code",
      "metadata": {
        "id": "ddd3WwEVu6_h"
      },
      "source": [
        "#latihan Insertion Sort\n",
        "\n",
        "list = [89,12,57,16,25,11,75]"
      ],
      "execution_count": 18,
      "outputs": []
    },
    {
      "cell_type": "code",
      "metadata": {
        "colab": {
          "base_uri": "https://localhost:8080/"
        },
        "id": "Ox9Ir3NWvDDw",
        "outputId": "89cc36ec-0769-4e99-e087-0b89a7988ff7"
      },
      "source": [
        "list"
      ],
      "execution_count": 19,
      "outputs": [
        {
          "output_type": "execute_result",
          "data": {
            "text/plain": [
              "[89, 12, 57, 16, 25, 11, 75]"
            ]
          },
          "metadata": {},
          "execution_count": 19
        }
      ]
    },
    {
      "cell_type": "code",
      "metadata": {
        "colab": {
          "base_uri": "https://localhost:8080/"
        },
        "id": "l5tkAGE8vIDR",
        "outputId": "051a0c3e-f55f-4afc-fff5-23c081f041d5"
      },
      "source": [
        "InsertionSort (list)"
      ],
      "execution_count": 20,
      "outputs": [
        {
          "output_type": "execute_result",
          "data": {
            "text/plain": [
              "[11, 12, 16, 25, 57, 75, 89]"
            ]
          },
          "metadata": {},
          "execution_count": 20
        }
      ]
    },
    {
      "cell_type": "code",
      "metadata": {
        "colab": {
          "base_uri": "https://localhost:8080/"
        },
        "id": "Tu3XWGXQvOFZ",
        "outputId": "18ccfecd-43d8-4504-fb5d-5f7c88d2d771"
      },
      "source": [
        "list"
      ],
      "execution_count": 21,
      "outputs": [
        {
          "output_type": "execute_result",
          "data": {
            "text/plain": [
              "[11, 12, 16, 25, 57, 75, 89]"
            ]
          },
          "metadata": {},
          "execution_count": 21
        }
      ]
    },
    {
      "cell_type": "code",
      "metadata": {
        "id": "7GFu6cu_wK_g"
      },
      "source": [
        "# Selection Sort\n",
        "\n",
        "def SelectionSort(list):\n",
        "    for fill_slot in range (len(list) - 1,0, -1):\n",
        "        max_index = 0\n",
        "        for location in range(1, fill_slot + 1):\n",
        "            if list[location] > list[max_index]:\n",
        "                max_index = location\n",
        "        list[fill_slot],list[max_index] = list[max_index],list[fill_slot]\n",
        "    return list"
      ],
      "execution_count": 22,
      "outputs": []
    },
    {
      "cell_type": "code",
      "metadata": {
        "colab": {
          "base_uri": "https://localhost:8080/"
        },
        "id": "5kCyq-84xCke",
        "outputId": "679f0654-9241-46a1-d72b-ec3e0a9d804f"
      },
      "source": [
        "list = [70,15,25,19,34,44]\n",
        "SelectionSort(list)"
      ],
      "execution_count": 23,
      "outputs": [
        {
          "output_type": "execute_result",
          "data": {
            "text/plain": [
              "[15, 19, 25, 34, 44, 70]"
            ]
          },
          "metadata": {},
          "execution_count": 23
        }
      ]
    },
    {
      "cell_type": "code",
      "metadata": {
        "colab": {
          "base_uri": "https://localhost:8080/"
        },
        "id": "2QbclHqTxIRI",
        "outputId": "b5e898ca-8370-481c-91b0-f9f901596d9b"
      },
      "source": [
        "list"
      ],
      "execution_count": 24,
      "outputs": [
        {
          "output_type": "execute_result",
          "data": {
            "text/plain": [
              "[15, 19, 25, 34, 44, 70]"
            ]
          },
          "metadata": {},
          "execution_count": 24
        }
      ]
    },
    {
      "cell_type": "code",
      "metadata": {
        "id": "CcOHm1j-xQac"
      },
      "source": [
        "#latihan selection sort\n",
        "\n",
        "list = [89,12,57,16,25]"
      ],
      "execution_count": 25,
      "outputs": []
    },
    {
      "cell_type": "code",
      "metadata": {
        "colab": {
          "base_uri": "https://localhost:8080/"
        },
        "id": "5LEtlFEo1DWx",
        "outputId": "520e9b27-bee8-4b11-f5b5-4153ad16c2c0"
      },
      "source": [
        "SelectionSort(list)"
      ],
      "execution_count": 26,
      "outputs": [
        {
          "output_type": "execute_result",
          "data": {
            "text/plain": [
              "[12, 16, 25, 57, 89]"
            ]
          },
          "metadata": {},
          "execution_count": 26
        }
      ]
    },
    {
      "cell_type": "code",
      "metadata": {
        "colab": {
          "base_uri": "https://localhost:8080/"
        },
        "id": "053MoEUN1GFK",
        "outputId": "de4f84a6-7748-4b52-f570-390bee1b9edb"
      },
      "source": [
        "list"
      ],
      "execution_count": 27,
      "outputs": [
        {
          "output_type": "execute_result",
          "data": {
            "text/plain": [
              "[12, 16, 25, 57, 89]"
            ]
          },
          "metadata": {},
          "execution_count": 27
        }
      ]
    },
    {
      "cell_type": "code",
      "metadata": {
        "id": "MH2daCoUG5DQ"
      },
      "source": [
        "#linear Search\n",
        "\n",
        "def LinearSearch(list, item):\n",
        "    index = 0\n",
        "    found = False\n",
        "    \n",
        "#Match the value with each data element    \n",
        "    while index < len(list) and found is False:\n",
        "        if list[index] == item:\n",
        "            found = True\n",
        "        else:\n",
        "            index = index + 1\n",
        "    return found"
      ],
      "execution_count": 28,
      "outputs": []
    },
    {
      "cell_type": "code",
      "metadata": {
        "colab": {
          "base_uri": "https://localhost:8080/"
        },
        "id": "ubfmXxSlHBuc",
        "outputId": "a9de130f-5d30-4dd9-f7d4-5dee10dc8d79"
      },
      "source": [
        "list = [12,33,11,99,22,55,90]\n",
        "print(LinearSearch(list, 12))\n",
        "print(LinearSearch(list, 91))"
      ],
      "execution_count": 29,
      "outputs": [
        {
          "output_type": "stream",
          "name": "stdout",
          "text": [
            "True\n",
            "False\n"
          ]
        }
      ]
    },
    {
      "cell_type": "code",
      "metadata": {
        "id": "othvj7LgKr54"
      },
      "source": [
        "list = [\"y\",\"u\",\"i\",\"w\",\"o\",\"a\",\"q\",\"u\",\"j\",\"p\"]"
      ],
      "execution_count": 31,
      "outputs": []
    },
    {
      "cell_type": "code",
      "metadata": {
        "colab": {
          "base_uri": "https://localhost:8080/"
        },
        "id": "gMZQu8KqLHlU",
        "outputId": "366cfc75-eade-4a98-bb6f-491dfad11e2c"
      },
      "source": [
        "print(LinearSearch(list, \"a\"))\n",
        "print(LinearSearch(list, \"b\"))"
      ],
      "execution_count": 32,
      "outputs": [
        {
          "output_type": "stream",
          "name": "stdout",
          "text": [
            "True\n",
            "False\n"
          ]
        }
      ]
    },
    {
      "cell_type": "code",
      "metadata": {
        "id": "Xzu0sr2sRNrv"
      },
      "source": [
        "# Algoritma Binary Search\n",
        "\n",
        "def BinarySearch(list, item):\n",
        "    first = 0\n",
        "    last = len(list)-1\n",
        "    found = False\n",
        "    \n",
        "    while first <= last and not found:\n",
        "        midpoint = (first + last)//2 #nilai first + last lalu di bagi 2\n",
        "        if list[midpoint] == item:\n",
        "            found = True\n",
        "        else:\n",
        "            if item < list[midpoint]:\n",
        "                last = midpoint-1\n",
        "            else:\n",
        "                first = midpoint+1\n",
        "            \n",
        "    return found"
      ],
      "execution_count": 60,
      "outputs": []
    },
    {
      "cell_type": "code",
      "metadata": {
        "colab": {
          "base_uri": "https://localhost:8080/"
        },
        "id": "Ab_XTMZ2RYop",
        "outputId": "d7628682-0d37-400e-f1f8-8546451109e1"
      },
      "source": [
        "# Latihan Binary Search, Cari “a” dari deret huruf di bawah ini menggunakan metode searching binary search!\n",
        "\n",
        "list = ['y','u','i','w','o','a','q','u','j','p']\n",
        "print(LinearSearch(list, 'a'))\n",
        "print(LinearSearch(list, 'q'))\n",
        "print(LinearSearch(list, 'z'))"
      ],
      "execution_count": 61,
      "outputs": [
        {
          "output_type": "stream",
          "name": "stdout",
          "text": [
            "True\n",
            "True\n",
            "False\n"
          ]
        }
      ]
    },
    {
      "cell_type": "code",
      "metadata": {
        "id": "6ULgNFMZRk29"
      },
      "source": [
        "# Interpolation Search\n",
        "\n",
        "def IntPolSearch(list,x):    \n",
        "    idx0 = 0\n",
        "    idxn = (len(list)-1)\n",
        "    found = False\n",
        "    while idx0 <= idxn and x >= list[idx0] and x <= list[idxn]:\n",
        "        mid = idx0 + int(((float(idxn - idx0) / (list[idxn] - list[idx0])) * (x - list[idx0])))\n",
        "        if list[mid] == x:\n",
        "            found = True\n",
        "            return found\n",
        "        \n",
        "        if list[mid] < x:\n",
        "            idx0 = mid + 1\n",
        "    return found"
      ],
      "execution_count": 70,
      "outputs": []
    },
    {
      "cell_type": "code",
      "metadata": {
        "colab": {
          "base_uri": "https://localhost:8080/"
        },
        "id": "3gErk_yfR0oZ",
        "outputId": "07625d2c-a0b1-4705-e70c-f7d77db1ccb8"
      },
      "source": [
        "list = [12,33,11,99,22,55,90]\n",
        "sorted_list =  BubbleSort(list)\n",
        "print(IntPolSearch(list, 12))\n",
        "print(IntPolSearch(list, 91))"
      ],
      "execution_count": 71,
      "outputs": [
        {
          "output_type": "stream",
          "name": "stdout",
          "text": [
            "True\n",
            "False\n"
          ]
        }
      ]
    },
    {
      "cell_type": "code",
      "metadata": {
        "colab": {
          "base_uri": "https://localhost:8080/"
        },
        "id": "rwzkRlBeU9u0",
        "outputId": "22e7bfb5-c173-4e1c-d84e-46a87cbd5337"
      },
      "source": [
        "list = [20,2,0,7,1,0,4]\n",
        "sorted_list =  BubbleSort(list)\n",
        "print(IntPolSearch(list, 2))\n",
        "print(IntPolSearch(list, 20))\n",
        "print(IntPolSearch(list, 10))"
      ],
      "execution_count": 75,
      "outputs": [
        {
          "output_type": "stream",
          "name": "stdout",
          "text": [
            "True\n",
            "True\n",
            "False\n"
          ]
        }
      ]
    }
  ]
}