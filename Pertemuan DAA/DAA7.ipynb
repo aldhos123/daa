{
 "cells": [
  {
   "cell_type": "code",
   "execution_count": 5,
   "source": [
    "## ALGORITMA BRUTE FORCE\r\n",
    "print(\"Pertemuan DAA ke-7\")\r\n",
    "print(\"1. ALGORITMA BRUTE FORCE\")\r\n",
    "print(\"=====================================\")\r\n",
    "def sequential_search(dlist, item):\r\n",
    "    pos = 0\r\n",
    "    found = False\r\n",
    "\r\n",
    "    while pos < len(dlist) and not found:\r\n",
    "        if dlist[pos] == item:\r\n",
    "            found = True\r\n",
    "        else:\r\n",
    "            pos = pos + 1\r\n",
    "        \r\n",
    "    return found, pos\r\n",
    "\r\n",
    "print(sequential_search([11, 23, 58, 31, 56, 77, 43, 12, 65, 19], 31))\r\n",
    "\r\n",
    "print(\"=====================================\\n\")\r\n"
   ],
   "outputs": [
    {
     "output_type": "stream",
     "name": "stdout",
     "text": [
      "Pertemuan DAA ke-7\n",
      "1. ALGORITMA BRUTE FORCE\n",
      "=====================================\n",
      "(True, 3)\n",
      "=====================================\n",
      "\n"
     ]
    }
   ],
   "metadata": {}
  },
  {
   "cell_type": "code",
   "execution_count": 8,
   "source": [
    "## LATIHAN ALGORITMA BRUTE FORCE\r\n",
    "print(\"2. LATIHAN ALGORITMA BRUTE FORCE\")\r\n",
    "print(\"=====================================\")\r\n",
    "def sequential_search(dlist, item):\r\n",
    "    pos = 0\r\n",
    "    found = False\r\n",
    "\r\n",
    "    while pos < len(dlist) and not found:\r\n",
    "        if dlist[pos] == item:\r\n",
    "            found = True\r\n",
    "        else:\r\n",
    "            pos = pos + 1\r\n",
    "        \r\n",
    "    return found, pos\r\n",
    "\r\n",
    "print(sequential_search(['a', 'b', 'c', 'd', 'e', 'f', 'g', 'h'], 'g'))\r\n",
    "\r\n",
    "print(\"=====================================\\n\")\r\n"
   ],
   "outputs": [
    {
     "output_type": "stream",
     "name": "stdout",
     "text": [
      "Pertemuan DAA ke-7\n",
      "2. LATIHAN ALGORITMA BRUTE FORCE\n",
      "=====================================\n",
      "(True, 0)\n",
      "=====================================\n",
      "\n"
     ]
    }
   ],
   "metadata": {}
  },
  {
   "cell_type": "code",
   "execution_count": 10,
   "source": [
    "## ALGORITMA BRUTE FORCE PANGKAT\r\n",
    "print(\"3. ALGORITMA BRUTE FORCE PANGKAT\")\r\n",
    "print(\"=====================================\")\r\n",
    "bilangan = int(input('Masukkan Bilangan: '))\r\n",
    "pangkat = int(input('Masukkan Pangkat: '))\r\n",
    "\r\n",
    "def hitung_pangkat(bilangan, pangkat):\r\n",
    "    if pangkat > 1:\r\n",
    "        return bilangan * hitung_pangkat(bilangan, pangkat - 1)\r\n",
    "    \r\n",
    "    return bilangan \r\n",
    "\r\n",
    "hasil = hitung_pangkat(bilangan, pangkat)\r\n",
    "print(f'Hasil = {hasil}')\r\n",
    "print(\"=====================================\\n\")\r\n"
   ],
   "outputs": [
    {
     "output_type": "stream",
     "name": "stdout",
     "text": [
      "Pertemuan DAA ke-7\n",
      "3. ALGORITMA BRUTE FORCE PANGKAT\n",
      "=====================================\n",
      "Hasil = 100\n",
      "=====================================\n",
      "\n"
     ]
    }
   ],
   "metadata": {}
  },
  {
   "cell_type": "code",
   "execution_count": 12,
   "source": [
    "## ALGORITMA BRUTE FORCE FAKTORIAL\r\n",
    "print(\"4. ALGORITMA BRUTE FORCE FAKTORIAL\")\r\n",
    "print(\"=====================================\")\r\n",
    "n = int(input('Masukkan nilai n: '))\r\n",
    "\r\n",
    "def hitung_faktorial(n):\r\n",
    "    if n > 2:\r\n",
    "        return n * hitung_faktorial(n - 1)\r\n",
    "    \r\n",
    "    return 2\r\n",
    "\r\n",
    "faktorial_hasil = hitung_faktorial(n)\r\n",
    "print(f'{n}! = {faktorial_hasil}')\r\n",
    "print(\"=====================================\\n\")\r\n"
   ],
   "outputs": [
    {
     "output_type": "stream",
     "name": "stdout",
     "text": [
      "4. ALGORITMA BRUTE FORCE FAKTORIAL\n",
      "=====================================\n",
      "6! = 720\n",
      "=====================================\n",
      "\n"
     ]
    }
   ],
   "metadata": {}
  },
  {
   "cell_type": "code",
   "execution_count": 16,
   "source": [
    "## ALGORITMA BRUTE FORCE STRING MATCHING\r\n",
    "print(\"5. ALGORITMA BRUTE FORCE STRING MATCHING\")\r\n",
    "print(\"=====================================\")\r\n",
    "def string_mathcing(string, sub_str):\r\n",
    "    for i in range(len(string) - len(sub_str) + 1):\r\n",
    "        index = i\r\n",
    "        for j in range(len(sub_str)):\r\n",
    "            if string[index] == sub_str[j]:\r\n",
    "                index += 1\r\n",
    "            else:\r\n",
    "                break\r\n",
    "            if index - i == len(sub_str):\r\n",
    "                return i\r\n",
    "    return -1\r\n",
    "\r\n",
    "if __name__ == \"__main__\":\r\n",
    "    print(string_mathcing(\"adbcbdc\", \"bdc\"))\r\n",
    "\r\n",
    "print(\"=====================================\\n\")\r\n"
   ],
   "outputs": [
    {
     "output_type": "stream",
     "name": "stdout",
     "text": [
      "5. ALGORITMA BRUTE FORCE STRING MATCHING\n",
      "=====================================\n",
      "4\n",
      "=====================================\n",
      "\n"
     ]
    }
   ],
   "metadata": {}
  },
  {
   "cell_type": "code",
   "execution_count": 18,
   "source": [
    "## LATIHAN BRUTE FORCE STRING MATCHING\r\n",
    "print(\"6. LATIHAN BRUTE FORCE STRING MATCHING\")\r\n",
    "print(\"=====================================\")\r\n",
    "def string_mathcing(string, sub_str):\r\n",
    "    for i in range(len(string) - len(sub_str) + 1):\r\n",
    "        index = i\r\n",
    "        for j in range(len(sub_str)):\r\n",
    "            if string[index] == sub_str[j]:\r\n",
    "                index += 1\r\n",
    "            else:\r\n",
    "                break\r\n",
    "            if index - i == len(sub_str):\r\n",
    "                return i\r\n",
    "    return -1\r\n",
    "\r\n",
    "if __name__ == \"__main__\":\r\n",
    "    print(string_mathcing(\"123456789\", \"56\"))\r\n",
    "\r\n",
    "print(\"=====================================\\n\")\r\n"
   ],
   "outputs": [
    {
     "output_type": "stream",
     "name": "stdout",
     "text": [
      "6. ALGORITMA BRUTE FORCE STRING MATCHING\n",
      "=====================================\n",
      "4\n",
      "=====================================\n",
      "\n"
     ]
    }
   ],
   "metadata": {}
  },
  {
   "cell_type": "code",
   "execution_count": 24,
   "source": [
    "## BRUTE FORCE TSP\r\n",
    "print(\"7. BRUTE FORCE TSP\")\r\n",
    "print(\"=====================================\")\r\n",
    "import random\r\n",
    "from itertools import permutations\r\n",
    "alltours = permutations\r\n",
    "%matplotlib inline \r\n",
    "import matplotlib.pyplot as plt\r\n",
    "from time import process_time\r\n",
    "from collections import Counter\r\n",
    "\r\n",
    "def distance_tour(aTour):\r\n",
    "    return sum(distance_points(aTour[i - 1], aTour[i])\r\n",
    "        for i in range(len(aTour)))\r\n",
    "\r\n",
    "aCity = complex\r\n",
    "\r\n",
    "def distance_points(first, second):\r\n",
    "    return abs(first - second)\r\n",
    "\r\n",
    "def generate_cities(number_of_cities):\r\n",
    "    seed = 111\r\n",
    "    width = 500\r\n",
    "    height = 300\r\n",
    "\r\n",
    "    random.seed((number_of_cities, seed))\r\n",
    "    return frozenset(aCity(random.randint(1, width), random.randint(1, height))\r\n",
    "        for c in range(number_of_cities))\r\n",
    "\r\n",
    "def visualize_tour(tour, style='bo-'):\r\n",
    "    if len(tour) > 1000:\r\n",
    "        plt.figure(figsize = (15, 10))\r\n",
    "    start = tour[0:1]\r\n",
    "    visualize_segment(tour + start, style)\r\n",
    "    visualize_segment(start, 'rD')\r\n",
    "def visualize_segment(segment, style='bo-'):\r\n",
    "    plt.plot([X(c) for c in segment], [Y(c) for c in segment], style, clip_on = False)\r\n",
    "    plt.axis('scaled')\r\n",
    "    plt.axis('off')\r\n",
    "\r\n",
    "def X(city): \"X axis\"; return city.real\r\n",
    "def Y(city): \"Y axis\"; return city.imag\r\n",
    "\r\n",
    "def tsp(algorithm, cities):\r\n",
    "    t0 = process_time()\r\n",
    "    tour = algorithm(cities)\r\n",
    "    t1 = process_time()\r\n",
    "    assert Counter(tour) == Counter(cities)\r\n",
    "    visualize_tour(tour)\r\n",
    "    print(\"{}:{} cities => tour length {:.0f}(in {:.3f} sec)\".format(name(algorithm), len(tour), distance_tour(tour), t1-t0))\r\n",
    "\r\n",
    "def name(algorithm): return algorithm.__name__.replace('_tsp', '')\r\n",
    "\r\n",
    "def brute_force(cities):\r\n",
    "    return shortest_tour(alltours(cities))\r\n",
    "def shortest_tour(tours): \r\n",
    "    return min(tours, key = distance_tour)\r\n",
    "\r\n",
    "tsp(brute_force, generate_cities(50))\r\n",
    "print(\"=====================================\\n\")\r\n"
   ],
   "outputs": [
    {
     "output_type": "stream",
     "name": "stdout",
     "text": [
      "7. BRUTE FORCE TSP\n",
      "=====================================\n"
     ]
    }
   ],
   "metadata": {}
  }
 ],
 "metadata": {
  "orig_nbformat": 4,
  "language_info": {
   "name": "python",
   "version": "3.7.3",
   "mimetype": "text/x-python",
   "codemirror_mode": {
    "name": "ipython",
    "version": 3
   },
   "pygments_lexer": "ipython3",
   "nbconvert_exporter": "python",
   "file_extension": ".py"
  },
  "kernelspec": {
   "name": "python3",
   "display_name": "Python 3.7.3 64-bit"
  },
  "interpreter": {
   "hash": "19fc8b14b797fe6782737ec85a0c3f8c6b79798f6129668ab9de125072ad4ea8"
  }
 },
 "nbformat": 4,
 "nbformat_minor": 2
}