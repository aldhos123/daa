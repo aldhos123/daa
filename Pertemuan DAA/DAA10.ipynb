{
 "cells": [
  {
   "cell_type": "code",
   "execution_count": 35,
   "metadata": {},
   "outputs": [
    {
     "name": "stdout",
     "output_type": "stream",
     "text": [
      "Harga perbarang\n",
      "Pensil =  1000.0\n",
      "Buku   =  2000.0\n",
      "Harga 2 pensil 6 buku\n",
      "14000.0\n"
     ]
    }
   ],
   "source": [
    "import pulp\n",
    "model = pulp.LpProblem(\"ProfitMaximisingProblem\", pulp.LpMaximize)\n",
    "\n",
    "A = pulp.LpVariable('A', lowBound=0, cat='Integer')\n",
    "B = pulp.LpVariable('B', lowBound=0, cat='Integer')\n",
    "\n",
    "# Object function\n",
    "model += 2 * A + 6 * B, \"Profit\"\n",
    "\n",
    "model += 3 * A + 4 * B <= 11000\n",
    "model += 1 * A + 7 * B <= 15000\n",
    "\n",
    "#Solve\n",
    "model.solve()\n",
    "pulp.LpStatus[model.status]\n",
    "\n",
    "print(\"Harga perbarang\")\n",
    "print (\"Pensil = \", A.varValue)\n",
    "print (\"Buku   = \", B.varValue)\n",
    "print(\"Harga 2 pensil 6 buku\")\n",
    "print(pulp.value(model.objective))"
   ]
  },
  {
   "cell_type": "code",
   "execution_count": 34,
   "metadata": {},
   "outputs": [
    {
     "name": "stdout",
     "output_type": "stream",
     "text": [
      "Panjang  =  14.0\n",
      "Lebar    =  8.0\n",
      "Keliling =  44.0\n"
     ]
    }
   ],
   "source": [
    "# Latihan Panjang Lebar\n",
    "model1 = pulp.LpProblem(\"MencariPanjangDanLebarPersegiPanjang\", pulp.LpMaximize)\n",
    "\n",
    "P = pulp.LpVariable('A', lowBound=0, cat='Integer')\n",
    "L = pulp.LpVariable('B', lowBound=0, cat='Integer')\n",
    "\n",
    "# Object function\n",
    "model1 += 2 * P + 2 * L, \"Profit\"\n",
    "\n",
    "model1 += 2 * P + 2 * L == 44\n",
    "model1 += 2 * P + 2 * (P-6) == 44\n",
    "\n",
    "#Solve\n",
    "model1.solve()\n",
    "pulp.LpStatus[model1.status]\n",
    "\n",
    "print (\"Panjang  = \", P.varValue)\n",
    "print (\"Lebar    = \", L.varValue)\n",
    "print (\"Keliling = \", pulp.value(model1.objective))"
   ]
  },
  {
   "cell_type": "code",
   "execution_count": 40,
   "metadata": {},
   "outputs": [
    {
     "name": "stdout",
     "output_type": "stream",
     "text": [
      "Optimal value: 46.0 \n",
      "x values: [5. 3.] \n",
      "Number of iterations performed: 5 \n",
      "Status: Optimization terminated successfully.\n"
     ]
    }
   ],
   "source": [
    "# Aplikasi Linear Programming\n",
    "import numpy as np\n",
    "from scipy.optimize import linprog\n",
    "\n",
    "A = np.array([[1, 0], [2, 3], [1, 1], [-1, 0], [0, -1]])\n",
    "b = np.array([16, 19, 8, 0, 0])\n",
    "c = np.array([-5, -7])\n",
    "\n",
    "res = linprog(c, A_ub=A, b_ub=b)\n",
    "\n",
    "print('Optimal value:', round(res.fun*-1, ndigits=2),\n",
    "'\\nx values:', res.x, \n",
    "'\\nNumber of iterations performed:', res.nit, \n",
    "'\\nStatus:', res.message)"
   ]
  },
  {
   "cell_type": "code",
   "execution_count": 43,
   "metadata": {},
   "outputs": [
    {
     "name": "stdout",
     "output_type": "stream",
     "text": [
      "Optimal value: 35.0 \n",
      "x values: [7.00000000e+00 4.27537617e-11] \n",
      "Number of iterations performed: 4 \n",
      "Status: Optimization terminated successfully.\n"
     ]
    }
   ],
   "source": [
    "# Latihan Aplikasi Linear Programming\n",
    "\n",
    "A = np.array([[4, 12], [2, 1], [-1, 0], [0, -1]])\n",
    "b = np.array([28, 21, 0, 0])\n",
    "c = np.array([-5, -7])\n",
    "\n",
    "res = linprog(c, A_ub=A, b_ub=b)\n",
    "\n",
    "print('Optimal value:', round(res.fun*-1, ndigits=2),\n",
    "'\\nx values:', res.x, \n",
    "'\\nNumber of iterations performed:', res.nit, \n",
    "'\\nStatus:', res.message)"
   ]
  },
  {
   "cell_type": "code",
   "execution_count": 47,
   "metadata": {},
   "outputs": [
    {
     "name": "stdout",
     "output_type": "stream",
     "text": [
      "Optimal value: 16.0 \n",
      "x values: [11.28137677  4.71862323] \n",
      "Number of iterations performed: 5 \n",
      "Status: Optimization terminated successfully.\n"
     ]
    }
   ],
   "source": [
    "# Latihan Aplikasi Linear Programming\n",
    "\n",
    "A = np.array([[1, 1], [3, 4], [-1, 0], [0, -1]])\n",
    "b = np.array([16, 55, 0, 0])\n",
    "c = np.array([-1, -1])\n",
    "\n",
    "res = linprog(c, A_ub=A, b_ub=b)\n",
    "\n",
    "print('Optimal value:', round(res.fun*-1, ndigits=2),\n",
    "'\\nx values:', res.x, \n",
    "'\\nNumber of iterations performed:', res.nit, \n",
    "'\\nStatus:', res.message)"
   ]
  }
 ],
 "metadata": {
  "interpreter": {
   "hash": "19fc8b14b797fe6782737ec85a0c3f8c6b79798f6129668ab9de125072ad4ea8"
  },
  "kernelspec": {
   "display_name": "Python 3.7.3 64-bit",
   "name": "python3"
  },
  "language_info": {
   "codemirror_mode": {
    "name": "ipython",
    "version": 3
   },
   "file_extension": ".py",
   "mimetype": "text/x-python",
   "name": "python",
   "nbconvert_exporter": "python",
   "pygments_lexer": "ipython3",
   "version": "3.7.3"
  },
  "orig_nbformat": 4
 },
 "nbformat": 4,
 "nbformat_minor": 2
}
